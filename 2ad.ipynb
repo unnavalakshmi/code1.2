{
 "cells": [
  {
   "cell_type": "code",
   "execution_count": 1,
   "id": "281950b2",
   "metadata": {},
   "outputs": [
    {
     "data": {
      "application/vnd.jupyter.widget-view+json": {
       "model_id": "11885545639a4448943c861a48be2d81",
       "version_major": 2,
       "version_minor": 0
      },
      "text/plain": [
       "Label(value='Celsius:')"
      ]
     },
     "metadata": {},
     "output_type": "display_data"
    },
    {
     "data": {
      "application/vnd.jupyter.widget-view+json": {
       "model_id": "4f976c33aa6c461888d61e257a0969b8",
       "version_major": 2,
       "version_minor": 0
      },
      "text/plain": [
       "FloatText(value=0.0)"
      ]
     },
     "metadata": {},
     "output_type": "display_data"
    },
    {
     "data": {
      "application/vnd.jupyter.widget-view+json": {
       "model_id": "7d32f9d8c0ce478296e48712d163c0b3",
       "version_major": 2,
       "version_minor": 0
      },
      "text/plain": [
       "Label(value='Fahrenheit:')"
      ]
     },
     "metadata": {},
     "output_type": "display_data"
    },
    {
     "data": {
      "application/vnd.jupyter.widget-view+json": {
       "model_id": "d224295d8fb64f2fb6d0a9c085e46bd3",
       "version_major": 2,
       "version_minor": 0
      },
      "text/plain": [
       "FloatText(value=32.0)"
      ]
     },
     "metadata": {},
     "output_type": "display_data"
    },
    {
     "data": {
      "application/vnd.jupyter.widget-view+json": {
       "model_id": "ee6b8ac070b34c4fb1edc3be5ff38731",
       "version_major": 2,
       "version_minor": 0
      },
      "text/plain": [
       "Label(value='0.00°C = 32.00°F', layout=Layout(margin='20px 0'))"
      ]
     },
     "metadata": {},
     "output_type": "display_data"
    }
   ],
   "source": [
    "import ipywidgets as widgets\n",
    "from IPython.display import display\n",
    "\n",
    "def celsius_to_fahrenheit(change):\n",
    "    celsius = change.new\n",
    "    fahrenheit = (celsius * 9/5) + 32\n",
    "    result_label.value = f\"{celsius:.2f}°C = {fahrenheit:.2f}°F\"\n",
    "\n",
    "def fahrenheit_to_celsius(change):\n",
    "    fahrenheit = change.new\n",
    "    celsius = (fahrenheit - 32) * 5/9\n",
    "    result_label.value = f\"{fahrenheit:.2f}°F = {celsius:.2f}°C\"\n",
    "\n",
    "# Celsius to Fahrenheit conversion\n",
    "celsius_label = widgets.Label(value=\"Celsius:\")\n",
    "celsius_input = widgets.FloatText(value=0)\n",
    "celsius_input.observe(celsius_to_fahrenheit, names='value')\n",
    "\n",
    "# Fahrenheit to Celsius conversion\n",
    "fahrenheit_label = widgets.Label(value=\"Fahrenheit:\")\n",
    "fahrenheit_input = widgets.FloatText(value=32)\n",
    "fahrenheit_input.observe(fahrenheit_to_celsius, names='value')\n",
    "\n",
    "# Result label\n",
    "result_label = widgets.Label(value=\"0.00°C = 32.00°F\", layout=widgets.Layout(margin='20px 0'))\n",
    "\n",
    "# Display widgets\n",
    "display(celsius_label, celsius_input)\n",
    "display(fahrenheit_label, fahrenheit_input)\n",
    "display(result_label)\n"
   ]
  },
  {
   "cell_type": "code",
   "execution_count": null,
   "id": "0b8f760f",
   "metadata": {},
   "outputs": [],
   "source": []
  }
 ],
 "metadata": {
  "kernelspec": {
   "display_name": "Python 3 (ipykernel)",
   "language": "python",
   "name": "python3"
  },
  "language_info": {
   "codemirror_mode": {
    "name": "ipython",
    "version": 3
   },
   "file_extension": ".py",
   "mimetype": "text/x-python",
   "name": "python",
   "nbconvert_exporter": "python",
   "pygments_lexer": "ipython3",
   "version": "3.10.9"
  }
 },
 "nbformat": 4,
 "nbformat_minor": 5
}
